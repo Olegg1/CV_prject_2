{
  "nbformat": 4,
  "nbformat_minor": 0,
  "metadata": {
    "colab": {
      "provenance": []
    },
    "kernelspec": {
      "name": "python3",
      "display_name": "Python 3"
    },
    "language_info": {
      "name": "python"
    }
  },
  "cells": [
    {
      "cell_type": "code",
      "execution_count": null,
      "metadata": {
        "id": "J7pLGE_OiG7M"
      },
      "outputs": [],
      "source": [
        "import cv2\n",
        "import mediapipe as mp\n",
        "import math\n",
        "\n",
        "cap = cv2.VideoCapture(1)  # Поменял на камеру 0, так как обычно она представлена первой\n",
        "c = 0\n",
        "state = False\n",
        "# Инициализация модели holistic\n",
        "with mp.solutions.holistic.Holistic(min_detection_confidence=0.5, min_tracking_confidence=0.5) as holistic:\n",
        "\n",
        "    while cap.isOpened():\n",
        "        ret, frame = cap.read()\n",
        "\n",
        "        if not ret:\n",
        "            break\n",
        "\n",
        "        # Перекрасить изображение\n",
        "        image = cv2.cvtColor(frame, cv2.COLOR_BGR2RGB)\n",
        "        # Детектирование\n",
        "        results = holistic.process(image)\n",
        "\n",
        "        # Перекрасить изображение обратно в BGR для отрисовки\n",
        "        image = cv2.cvtColor(image, cv2.COLOR_RGB2BGR)\n",
        "\n",
        "        try:\n",
        "            # Выделение ключевых точек\n",
        "            if results.pose_landmarks.landmark:\n",
        "                # Точка 25\n",
        "                left = results.pose_landmarks.landmark[23]\n",
        "                left_x = int(left.x * image.shape[1])\n",
        "                left_y = int(left.y * image.shape[0])\n",
        "                cv2.circle(image, (left_x, left_y), 5, (255, 255, 255), -1)  # Белый цвет\n",
        "\n",
        "                # Точка 26\n",
        "                right = results.pose_landmarks.landmark[27]\n",
        "                right_x = int(right.x * image.shape[1])\n",
        "                right_y = int(right.y * image.shape[0])\n",
        "                cv2.circle(image, (right_x, right_y), 5, (255, 255, 255), -1)  # Белый цвет\n",
        "\n",
        "                # Вычисление вектора от точки 25 к точке 26\n",
        "                vector_x = right_x - left_x\n",
        "                vector_y = right_y - left_y\n",
        "\n",
        "                # Вычисление угла в градусах\n",
        "                angle_degrees = math.degrees(math.atan2(vector_y, vector_x))\n",
        "\n",
        "                # Отображение угла на изображении\n",
        "                cv2.putText(image, f'Angle: {angle_degrees:.2f}', (10, 30), cv2.FONT_HERSHEY_SIMPLEX, 1, (255, 255, 255), 2, cv2.LINE_AA)\n",
        "                if angle_degrees > 62 and angle_degrees < 70 and state or angle_degrees > 110 and angle_degrees < 120 and state:\n",
        "                    c += 1\n",
        "                    cv2.putText(image, f'Count: {c}', (70, 90), cv2.FONT_HERSHEY_SIMPLEX, 1, (255, 255, 255), 2, cv2.LINE_AA)\n",
        "                    cv2.putText(image, 'Good', (40, 60), cv2.FONT_HERSHEY_SIMPLEX, 1, (255, 255, 255), 2, cv2.LINE_AA)\n",
        "                    state = False\n",
        "                elif not state:\n",
        "                    # c = 1\n",
        "                    print(c)\n",
        "                    cv2.putText(image, f'Count: {c}', (70, 90), cv2.FONT_HERSHEY_SIMPLEX, 1, (255, 255, 255), 2, cv2.LINE_AA)\n",
        "                    cv2.putText(image, 'Bad', (40, 60), cv2.FONT_HERSHEY_SIMPLEX, 1, (255, 255, 255), 2, cv2.LINE_AA)\n",
        "                    state = True\n",
        "\n",
        "\n",
        "            cv2.imshow('Raw Webcam Feed', image)\n",
        "        except:\n",
        "            print('')\n",
        "        if cv2.waitKey(10) & 0xFF == ord('q'):\n",
        "            break\n",
        "\n",
        "cap.release()\n",
        "cv2.destroyAllWindows()\n"
      ]
    }
  ]
}